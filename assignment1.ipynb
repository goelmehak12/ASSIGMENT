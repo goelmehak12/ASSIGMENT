{
 "cells": [
  {
   "cell_type": "code",
   "execution_count": 28,
   "id": "65982e3d-5040-4f82-85d7-571a0dbd954d",
   "metadata": {},
   "outputs": [],
   "source": [
    "#QUESTION 2\n",
    "\n",
    "\n",
    "\n",
    "var_1=' '  "
   ]
  },
  {
   "cell_type": "code",
   "execution_count": 2,
   "id": "1b11c8bc-daea-403d-a8b5-87ed824b8b8e",
   "metadata": {},
   "outputs": [
    {
     "data": {
      "text/plain": [
       "str"
      ]
     },
     "execution_count": 2,
     "metadata": {},
     "output_type": "execute_result"
    }
   ],
   "source": [
    "type(var_1)"
   ]
  },
  {
   "cell_type": "code",
   "execution_count": 3,
   "id": "20490746-dadd-406c-8320-93f149897e57",
   "metadata": {},
   "outputs": [],
   "source": [
    "var_2='[ DS , ML , Python]'"
   ]
  },
  {
   "cell_type": "code",
   "execution_count": 4,
   "id": "6351a2ec-6813-4760-b4e7-dd995dba4ee2",
   "metadata": {},
   "outputs": [
    {
     "data": {
      "text/plain": [
       "str"
      ]
     },
     "execution_count": 4,
     "metadata": {},
     "output_type": "execute_result"
    }
   ],
   "source": [
    "type(var_2)"
   ]
  },
  {
   "cell_type": "code",
   "execution_count": 5,
   "id": "32e07395-1e1d-4393-8b72-a7ef8f1587cc",
   "metadata": {},
   "outputs": [],
   "source": [
    "var_3=[\"DS\",\"ML\",\"Python\"]"
   ]
  },
  {
   "cell_type": "code",
   "execution_count": 6,
   "id": "b7fc9175-3a2f-4445-8d4b-5f7810e1501e",
   "metadata": {},
   "outputs": [
    {
     "data": {
      "text/plain": [
       "list"
      ]
     },
     "execution_count": 6,
     "metadata": {},
     "output_type": "execute_result"
    }
   ],
   "source": [
    "type(var_3)"
   ]
  },
  {
   "cell_type": "code",
   "execution_count": 7,
   "id": "a8ea2e44-bcb2-4048-966a-6cb856fc14a8",
   "metadata": {},
   "outputs": [],
   "source": [
    "var_4=1"
   ]
  },
  {
   "cell_type": "code",
   "execution_count": 8,
   "id": "a46da7c6-30e6-4efc-933a-72bbfd7fafb9",
   "metadata": {},
   "outputs": [
    {
     "data": {
      "text/plain": [
       "int"
      ]
     },
     "execution_count": 8,
     "metadata": {},
     "output_type": "execute_result"
    }
   ],
   "source": [
    "type(var_4)"
   ]
  },
  {
   "cell_type": "code",
   "execution_count": 10,
   "id": "bcd28651-6a78-4086-b289-28d70dccbdf2",
   "metadata": {},
   "outputs": [],
   "source": [
    "#QUESTION 3"
   ]
  },
  {
   "cell_type": "code",
   "execution_count": 13,
   "id": "852ae992-0e20-4e83-af52-5c3813e1bc5e",
   "metadata": {},
   "outputs": [
    {
     "name": "stdout",
     "output_type": "stream",
     "text": [
      "2.5\n"
     ]
    }
   ],
   "source": [
    "a=10/4\n",
    "\n",
    "print(a)"
   ]
  },
  {
   "cell_type": "code",
   "execution_count": 14,
   "id": "223be658-a131-4db5-aba1-6b37da339e85",
   "metadata": {},
   "outputs": [],
   "source": [
    "#THE USE '/' IS TO RETURN THE QUOTIENT ,IT ALWAYS HAS A FLOAT TYPE"
   ]
  },
  {
   "cell_type": "code",
   "execution_count": 15,
   "id": "ae3869b9-4233-40a9-85d6-4a89be78118c",
   "metadata": {},
   "outputs": [
    {
     "name": "stdout",
     "output_type": "stream",
     "text": [
      "2\n"
     ]
    }
   ],
   "source": [
    "a1=10%4\n",
    "\n",
    "print(a1)"
   ]
  },
  {
   "cell_type": "code",
   "execution_count": 16,
   "id": "0bbad544-de32-40cf-9888-9c6320095ec8",
   "metadata": {},
   "outputs": [],
   "source": [
    "# THE USE OF '% ' IS TO RETURN THE REMAINDER WHEN DIVISION IS PERFORMED "
   ]
  },
  {
   "cell_type": "code",
   "execution_count": 17,
   "id": "988df2e4-d073-4ff6-819f-2724d1e0f4df",
   "metadata": {},
   "outputs": [
    {
     "name": "stdout",
     "output_type": "stream",
     "text": [
      "2\n"
     ]
    }
   ],
   "source": [
    "a2=10//4\n",
    "\n",
    "print(a2)"
   ]
  },
  {
   "cell_type": "code",
   "execution_count": 18,
   "id": "cf976e4a-3f8b-496d-9960-7c5968137122",
   "metadata": {},
   "outputs": [],
   "source": [
    "#THE USE OF '%'  IS TO RETURN THE QUOTIENT AND IF IT IS IN THE FLOAT TYPE THEN IT ROUND OF TO THE SMALLEST DECIMAL PLACE"
   ]
  },
  {
   "cell_type": "code",
   "execution_count": 20,
   "id": "ac3c72de-8af8-4b37-bc12-176ec1a0735f",
   "metadata": {},
   "outputs": [
    {
     "name": "stdout",
     "output_type": "stream",
     "text": [
      "100\n"
     ]
    }
   ],
   "source": [
    "a3=10**2\n",
    "\n",
    "print(a3)"
   ]
  },
  {
   "cell_type": "code",
   "execution_count": 21,
   "id": "ce476008-6a9c-4729-96de-72b8fef53437",
   "metadata": {},
   "outputs": [],
   "source": [
    "#THE USE OF '**'  IS TO RAISE THE POWER FOR EXAMPLE LIKE 10 RAISE TO THE POWER 2"
   ]
  },
  {
   "cell_type": "code",
   "execution_count": 22,
   "id": "202809c2-a3b9-45ff-804e-93bf9f1f38ff",
   "metadata": {},
   "outputs": [],
   "source": [
    "#QUESTION 4"
   ]
  },
  {
   "cell_type": "code",
   "execution_count": 39,
   "id": "12369600-fd45-474c-a139-bb6b6ab42f2d",
   "metadata": {},
   "outputs": [
    {
     "name": "stdout",
     "output_type": "stream",
     "text": [
      "Data: 1, Data Type: <class 'int'>\n",
      "Data: 2, Data Type: <class 'int'>\n",
      "Data: 33.4, Data Type: <class 'float'>\n",
      "Data: mehak, Data Type: <class 'str'>\n",
      "Data: True, Data Type: <class 'bool'>\n",
      "Data: [1, 'pw', 88.7], Data Type: <class 'list'>\n",
      "Data: ('a', 'b', 'c'), Data Type: <class 'tuple'>\n",
      "Data: {'me', 'mine', 3}, Data Type: <class 'set'>\n",
      "Data: {'name': 'mehak', 'age': 21}, Data Type: <class 'dict'>\n",
      "Data: False, Data Type: <class 'bool'>\n"
     ]
    }
   ],
   "source": [
    "list=[1,2,33.4,\"mehak\",True,[1,\"pw\",88.7],(\"a\",\"b\",\"c\"),{\"me\",\"mine\",3},{\"name\":\"mehak\",\"age\":21},False]\n",
    "\n",
    "for i in list:\n",
    "    print(f\"Data: {i}, Data Type: {type(i)}\")"
   ]
  },
  {
   "cell_type": "code",
   "execution_count": 40,
   "id": "75993b9b-e66e-4413-b540-68be256c0c0a",
   "metadata": {},
   "outputs": [],
   "source": [
    "#QUESTION 1"
   ]
  },
  {
   "cell_type": "code",
   "execution_count": 41,
   "id": "4254f1f2-5c44-4ba7-bb9a-73ec81ce212f",
   "metadata": {},
   "outputs": [
    {
     "name": "stdout",
     "output_type": "stream",
     "text": [
      "['tanya', [1, 22.2, 'abc'], 99.3, (1, 2, 3)]\n"
     ]
    }
   ],
   "source": [
    "L1=[\"tanya\",[1,22.2,\"abc\"],99.3,(1,2,3)]\n",
    "\n",
    "print(L1)"
   ]
  },
  {
   "cell_type": "code",
   "execution_count": 3,
   "id": "184c326e-1ddc-42ff-9788-93dea82f1cca",
   "metadata": {},
   "outputs": [],
   "source": [
    "#QUESTION 5"
   ]
  },
  {
   "cell_type": "code",
   "execution_count": 6,
   "id": "c86e9a57-7b16-4712-ac50-35905cd98f83",
   "metadata": {},
   "outputs": [
    {
     "name": "stdin",
     "output_type": "stream",
     "text": [
      "Enter the dividend (a): 20\n",
      "Enter the divisor (b): 5\n"
     ]
    },
    {
     "name": "stdout",
     "output_type": "stream",
     "text": [
      "0 is purely divisble by 5\n",
      "the no. of times a is divisble by b is 4\n"
     ]
    }
   ],
   "source": [
    "a=int(input(\"Enter the dividend (a):\"))\n",
    "b=int(input(\"Enter the divisor (b):\"))\n",
    "\n",
    "count=0\n",
    "\n",
    "while a>=b:\n",
    "    a-=b\n",
    "    count+=1\n",
    "    \n",
    "if a==0:\n",
    "    print(f\"{a} is purely divisble by {b}\")\n",
    "    print(f\"the no. of times a is divisble by b is {count}\")\n",
    "          \n",
    "else:\n",
    "          print(f\"{a} is not divisble by {b}\")\n",
    "    \n",
    "    "
   ]
  },
  {
   "cell_type": "code",
   "execution_count": 11,
   "id": "d16afad6-8438-478c-b86e-b2ec68ad5080",
   "metadata": {},
   "outputs": [
    {
     "name": "stdout",
     "output_type": "stream",
     "text": [
      "3 is divisible by 3\n",
      "6 is divisible by 3\n",
      "9 is divisible by 3\n",
      "12 is divisible by 3\n",
      "15 is divisible by 3\n",
      "18 is divisible by 3\n",
      "21 is divisible by 3\n",
      "24 is divisible by 3\n",
      "27 is divisible by 3\n",
      "45 is divisible by 3\n",
      "63 is divisible by 3\n",
      "84 is divisible by 3\n",
      "33 is divisible by 3\n",
      "36 is divisible by 3\n",
      "42 is divisible by 3\n",
      "48 is divisible by 3\n",
      "53 is not divisible by 3\n",
      "56 is not divisible by 3\n",
      "66 is divisible by 3\n",
      "90 is divisible by 3\n",
      "7 is not divisible by 3\n",
      "11 is not divisible by 3\n",
      "55 is not divisible by 3\n",
      "22 is not divisible by 3\n",
      "82 is not divisible by 3\n"
     ]
    }
   ],
   "source": [
    "\n",
    "#QUESTION 6\n",
    "\n",
    "n=[3,6,9,12,15,18,21,24,27,45,63,84,33,36,42,48,53,56,66,90,7,11,55,22,82]\n",
    "\n",
    "for i in n:\n",
    "    if i%3==0:\n",
    "        print(f\"{i} is divisible by 3\")\n",
    "    else:\n",
    "        print(f\"{i} is not divisible by 3\")"
   ]
  },
  {
   "cell_type": "code",
   "execution_count": 12,
   "id": "debec664-9389-4a3e-9370-3ed94b48002e",
   "metadata": {},
   "outputs": [],
   "source": [
    "#QUESTION 6"
   ]
  },
  {
   "cell_type": "code",
   "execution_count": 17,
   "id": "d2088904-5de4-4c60-ba5c-65270760da88",
   "metadata": {},
   "outputs": [
    {
     "ename": "NameError",
     "evalue": "name 'O' is not defined",
     "output_type": "error",
     "traceback": [
      "\u001b[0;31m---------------------------------------------------------------------------\u001b[0m",
      "\u001b[0;31mNameError\u001b[0m                                 Traceback (most recent call last)",
      "Cell \u001b[0;32mIn[17], line 10\u001b[0m\n\u001b[1;32m      4\u001b[0m \u001b[38;5;28mtype\u001b[39m(A)\n\u001b[1;32m      7\u001b[0m \u001b[38;5;66;03m#IN THIS WE HAVE TAKEN STRING DATATYPE WHICH IS IMMUTABLE SO IF WE WANT TO CHANGE THE LETTER 'E' WITH 'O' ,IT IS NOT POSSIBLE BECZ STR VALUE CANNOT BE ALTERED AND ALSO NO NEW LETTER CAN BE INSERTED  \u001b[39;00m\n\u001b[1;32m      8\u001b[0m \u001b[38;5;66;03m#CHECKING THE IMMUTABLITY\u001b[39;00m\n\u001b[0;32m---> 10\u001b[0m A[\u001b[38;5;241m1\u001b[39m]\u001b[38;5;241m=\u001b[39m\u001b[43mO\u001b[49m\n",
      "\u001b[0;31mNameError\u001b[0m: name 'O' is not defined"
     ]
    }
   ],
   "source": [
    "#IMMUTABLE DATATYPES\n",
    "\n",
    "A=\"MEHAK\"\n",
    "type(A)\n",
    "\n",
    "\n",
    "#IN THIS WE HAVE TAKEN STRING DATATYPE WHICH IS IMMUTABLE SO IF WE WANT TO CHANGE THE LETTER 'E' WITH 'O' ,IT IS NOT POSSIBLE BECZ STR VALUE CANNOT BE ALTERED AND ALSO NO NEW LETTER CAN BE INSERTED  \n",
    "#CHECKING THE IMMUTABLITY\n",
    "\n",
    "A[1]=O"
   ]
  },
  {
   "cell_type": "code",
   "execution_count": 23,
   "id": "72ac85f4-4533-4125-834e-00ae40549f51",
   "metadata": {},
   "outputs": [
    {
     "name": "stdout",
     "output_type": "stream",
     "text": [
      "[1, 'AI', 'ECO', 'ACCOUNTS', 'BST', 'IP', 22.3]\n"
     ]
    }
   ],
   "source": [
    "#MUTABLE DATATYPES\n",
    "\n",
    "#LIST\n",
    "L1=[1,\"ESHA\",\"ECO\",\"ACCOUNTS\",\"BST\",\"IP\",22.3]\n",
    "type(L1)\n",
    "\n",
    "#IN THIS EXAMPLE WE HAVE CREATED A LIST WHICH IS MUTABLE IN NATURE FOR EXAMPLE IF WE WANT TO \"AI\" IN PLACE OF \"ESHA\" THEN IT IS POSSIBLE IN CASE OF LIST \n",
    "#CHECKING THE MUTABILITY\n",
    "\n",
    "L1[1]=\"AI\"\n",
    "print(L1)\n",
    "\n"
   ]
  },
  {
   "cell_type": "code",
   "execution_count": 25,
   "id": "993528b2-e903-4b08-b90b-9d77abdc3e8a",
   "metadata": {},
   "outputs": [
    {
     "name": "stdout",
     "output_type": "stream",
     "text": [
      "{'name': 'jiya', 'age': 13}\n"
     ]
    }
   ],
   "source": [
    "#DICTIONARIES\n",
    "\n",
    "dic={\"name\":\"jiya\",\"age\":12}\n",
    "\n",
    "dic[\"age\"]=13\n",
    "print(dic)"
   ]
  },
  {
   "cell_type": "code",
   "execution_count": 27,
   "id": "907604cd-8080-4b1d-b571-2554b15e6442",
   "metadata": {},
   "outputs": [
    {
     "name": "stdout",
     "output_type": "stream",
     "text": [
      "{1, 'abc'}\n"
     ]
    }
   ],
   "source": [
    "#SET\n",
    "\n",
    "set={1,\"abc\",\"efg\"}\n",
    "set.remove(\"efg\")\n",
    "print(set)"
   ]
  },
  {
   "cell_type": "code",
   "execution_count": null,
   "id": "2b3ce6ce-78de-4bd7-8b9c-77fb70523b4b",
   "metadata": {},
   "outputs": [],
   "source": []
  }
 ],
 "metadata": {
  "kernelspec": {
   "display_name": "Python 3 (ipykernel)",
   "language": "python",
   "name": "python3"
  },
  "language_info": {
   "codemirror_mode": {
    "name": "ipython",
    "version": 3
   },
   "file_extension": ".py",
   "mimetype": "text/x-python",
   "name": "python",
   "nbconvert_exporter": "python",
   "pygments_lexer": "ipython3",
   "version": "3.10.8"
  }
 },
 "nbformat": 4,
 "nbformat_minor": 5
}
