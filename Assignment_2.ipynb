{
 "cells": [
  {
   "cell_type": "markdown",
   "id": "a24222c0-4b48-4e00-ad69-eb6d64d7f9a4",
   "metadata": {},
   "source": [
    "## Q1. How do you comment code in Python? What are the different types of comments?"
   ]
  },
  {
   "cell_type": "code",
   "execution_count": null,
   "id": "5d14fbe1-09ce-41db-b2b2-6c1ca5dbde4b",
   "metadata": {},
   "outputs": [],
   "source": [
    "# In Python, comments are used to explain code, making it more readable and easier to understand.\n",
    "# Comments are ignored by the Python interpreter, so they do not affect the execution of the program. \n",
    "# There are two main types of comments in Python: single-line comments and multi-line comment"
   ]
  },
  {
   "cell_type": "code",
   "execution_count": null,
   "id": "a2b18db6-d7f7-485b-a9c6-6162ce2150ae",
   "metadata": {},
   "outputs": [],
   "source": [
    "1. Single-Line Comments\n",
    "Single-line comments are created using the # symbol. Everything following the # on that line is considered a comment\n",
    "and is ignored by the interpreter."
   ]
  },
  {
   "cell_type": "code",
   "execution_count": null,
   "id": "1fcb1485-4ede-4463-806b-d9e40ef1b57d",
   "metadata": {},
   "outputs": [],
   "source": [
    "# This is a single-line comment\n",
    "x = 10  # This is an inline comment explaining the variable\n",
    "\n",
    "\n",
    "# In the above example:\n",
    "\n",
    "# The first line is a single-line comment.\n",
    "# The second line contains an inline comment explaining the variable x."
   ]
  },
  {
   "cell_type": "code",
   "execution_count": null,
   "id": "d5064aa9-f3a3-42fa-93eb-fe6c80574a32",
   "metadata": {},
   "outputs": [],
   "source": [
    "# 2. Multi-Line Comments\n",
    "\n",
    "# Python does not have a specific syntax for multi-line comments like some other programming languages.\n",
    "# However, you can create multi-line comments by using consecutive single-line comments\n",
    "# or by using multi-line strings (triple quotes), \n",
    "# though the latter is technically a string and not a comment."
   ]
  },
  {
   "cell_type": "code",
   "execution_count": null,
   "id": "c17087f0-93d4-4ca7-99bc-1afa6b5a1610",
   "metadata": {},
   "outputs": [],
   "source": [
    "# Method 1: Consecutive Single-Line Comments\n",
    "\n",
    "# This is a multi-line comment\n",
    "# spread over several lines\n",
    "# using consecutive single-line comments.\n"
   ]
  },
  {
   "cell_type": "code",
   "execution_count": null,
   "id": "be3176d8-0e9a-452d-bb87-6e632c4a4828",
   "metadata": {},
   "outputs": [],
   "source": [
    "# Method 2: Multi-Line Strings (Not technically a comment, but often used)\n",
    "\n",
    "# You can use triple quotes (''' or \"\"\") to create a multi-line string that acts like a comment. \n",
    "# These strings are not assigned to any variable and are \n",
    "# therefore ignored by the interpreter if not used as docstrings."
   ]
  },
  {
   "cell_type": "code",
   "execution_count": null,
   "id": "501ef8df-284f-4f3c-9a9a-6a27f2629c1e",
   "metadata": {},
   "outputs": [],
   "source": [
    "\"\"\"\n",
    "This is a multi-line string\n",
    "used as a comment. It spans multiple lines.\n",
    "\n",
    "\"\"\"\n"
   ]
  },
  {
   "cell_type": "markdown",
   "id": "9670c1f5-e3d7-48a8-a861-0859b4de7378",
   "metadata": {},
   "source": [
    "## Q2. What are variables in Python? How do you declare and assign values to variables?"
   ]
  },
  {
   "cell_type": "code",
   "execution_count": null,
   "id": "4dfb0962-1b40-4564-b0c8-3852ca8cbe18",
   "metadata": {},
   "outputs": [],
   "source": [
    "# What Are Variables in Python?\n",
    "\n",
    "# Variables in Python are symbolic names that reference or store data. \n",
    "# They are used to hold values that can be accessed and manipulated throughout a program.\n",
    "# Variables allow you to work with data without needing to refer to specific values directly, \n",
    "# making your code more flexible and easier to manage."
   ]
  },
  {
   "cell_type": "code",
   "execution_count": null,
   "id": "333f1544-59c8-414e-b227-ce468d39f401",
   "metadata": {},
   "outputs": [],
   "source": [
    "# How to Declare and Assign Values to Variables in Python\n",
    "\n",
    "# In Python, you don't need to explicitly declare variables before assigning values to them.\n",
    "# You simply assign a value to a variable name using the assignment operator (=)."
   ]
  },
  {
   "cell_type": "code",
   "execution_count": null,
   "id": "c246273c-b874-4a90-878f-ee4c0d27cd46",
   "metadata": {},
   "outputs": [],
   "source": [
    "# Variable Declaration and Assignment\n",
    "# Here’s how we  can declare a variable and assign a value to it:\n",
    "\n",
    "# Example of declaring and assigning values to variables\n",
    "\n",
    "# Declare a variable 'x' and assign the integer value 10 to it\n",
    "x = 10\n",
    "\n",
    "# Declare a variable 'name' and assign the string value \"John\" to it\n",
    "name = \"John\"\n",
    "\n",
    "# Declare a variable 'price' and assign the float value 19.99 to it\n",
    "price = 19.99\n",
    "\n",
    "# Declare a variable 'is_student' and assign the boolean value True to it\n",
    "is_student = True\n"
   ]
  },
  {
   "cell_type": "code",
   "execution_count": null,
   "id": "cd7e8355-1b00-452a-a164-6876b25ce3dc",
   "metadata": {},
   "outputs": [],
   "source": [
    "# Key Points:\n",
    "    \n",
    "# No Explicit Declaration: Python variables are created the moment you first assign a value to them.\n",
    "\n",
    "# Dynamic Typing: Python is dynamically typed,\n",
    "# which means that you don’t need to specify the type of a variable when you create it. \n",
    "# The type is inferred from the value you assign to the variable.\n",
    "\n",
    "# Variable Names: Variable names can contain letters (a-z, A-Z), digits (0-9), and underscores (_).\n",
    "# However, they must start with a letter or an underscore, not a digit. \n",
    "# Python is case-sensitive, so myVar and myvar would be considered different variables."
   ]
  },
  {
   "cell_type": "markdown",
   "id": "47a5729d-b381-4579-8519-049625d7b97a",
   "metadata": {},
   "source": [
    "## Q3. How do you convert one data type to another in Python?"
   ]
  },
  {
   "cell_type": "code",
   "execution_count": null,
   "id": "c8dc0a2c-1569-4bed-a4cf-1934a8125c5b",
   "metadata": {},
   "outputs": [],
   "source": [
    "# In Python, We can convert one data type to another using built-in functions. \n",
    "# This process is called type conversion or type casting.\n",
    "# Below are the common methods for converting between different data types."
   ]
  },
  {
   "cell_type": "code",
   "execution_count": null,
   "id": "ee99d92f-57d6-4c6d-b836-42e38ae2d096",
   "metadata": {},
   "outputs": [],
   "source": [
    "# 1. Converting to Integer (int)\n",
    "\n",
    "# We can convert a value to an integer using the int() function. \n",
    "# This is useful for converting strings or floats to integers."
   ]
  },
  {
   "cell_type": "code",
   "execution_count": 5,
   "id": "94136b90-31ce-452d-9fe5-ac3bf479721d",
   "metadata": {},
   "outputs": [
    {
     "name": "stdout",
     "output_type": "stream",
     "text": [
      "123\n",
      "12\n"
     ]
    }
   ],
   "source": [
    "# String to integer\n",
    "s = \"123\"\n",
    "i = int(s)\n",
    "print(i)  # Output: 123\n",
    "\n",
    "# Float to integer\n",
    "f = 12.34\n",
    "i = int(f)\n",
    "print(i)  # Output: 12 (Note: This truncates the decimal part)\n"
   ]
  },
  {
   "cell_type": "code",
   "execution_count": null,
   "id": "52c371cf-a7cc-48ff-acda-9ddc1bd5efd6",
   "metadata": {},
   "outputs": [],
   "source": [
    "# 2. Converting to Float (float)\n",
    "\n",
    "# We can convert a value to a float using the float() function."
   ]
  },
  {
   "cell_type": "code",
   "execution_count": null,
   "id": "862b9dab-8454-4aee-a8e3-013f2cb393ff",
   "metadata": {},
   "outputs": [],
   "source": [
    "# String to float\n",
    "s = \"123.45\"\n",
    "f = float(s)\n",
    "print(f)  # Output: 123.45\n",
    "\n",
    "# Integer to float\n",
    "i = 123\n",
    "f = float(i)\n",
    "print(f)  # Output: 123.0\n"
   ]
  },
  {
   "cell_type": "code",
   "execution_count": null,
   "id": "30e2f056-d215-41dc-9d2f-cec52847be1d",
   "metadata": {},
   "outputs": [],
   "source": [
    "# 3. Converting to String (str)\n",
    "\n",
    "# we can convert a value to a string using the str() function."
   ]
  },
  {
   "cell_type": "code",
   "execution_count": null,
   "id": "89877c6d-d0b1-42ec-ae0a-21c5c809299a",
   "metadata": {},
   "outputs": [],
   "source": [
    "# Integer to string\n",
    "i = 123\n",
    "s = str(i)\n",
    "print(s)  # Output: \"123\"\n",
    "\n",
    "# Float to string\n",
    "f = 123.45\n",
    "s = str(f)\n",
    "print(s)  # Output: \"123.45\"\n"
   ]
  },
  {
   "cell_type": "code",
   "execution_count": null,
   "id": "6fcb07a8-e8b9-4b3b-a1be-aaabba6d4803",
   "metadata": {},
   "outputs": [],
   "source": [
    "# 4. Converting to List (list)\n",
    "\n",
    "# we  can convert a value to a list using the list() function.\n",
    "# This is often used to convert strings or other iterable objects into lists."
   ]
  },
  {
   "cell_type": "code",
   "execution_count": null,
   "id": "2178de61-d33b-4b27-b30d-bb60a774c1d2",
   "metadata": {},
   "outputs": [],
   "source": [
    "# String to list\n",
    "s = \"hello\"\n",
    "lst = list(s)\n",
    "print(lst)  # Output: ['h', 'e', 'l', 'l', 'o']\n",
    "\n",
    "# Tuple to list\n",
    "t = (1, 2, 3)\n",
    "lst = list(t)\n",
    "print(lst)  # Output: [1, 2, 3]\n"
   ]
  },
  {
   "cell_type": "code",
   "execution_count": null,
   "id": "238505c9-6d92-498c-8d0b-8bdc05714e95",
   "metadata": {},
   "outputs": [],
   "source": [
    "# 5. Converting to Tuple (tuple)\n",
    "\n",
    "# we can convert a value to a tuple using the tuple() function."
   ]
  },
  {
   "cell_type": "code",
   "execution_count": null,
   "id": "b3c13a23-d2af-4400-884d-76d6c99b1fe2",
   "metadata": {},
   "outputs": [],
   "source": [
    "# List to tuple\n",
    "lst = [1, 2, 3]\n",
    "t = tuple(lst)\n",
    "print(t)  # Output: (1, 2, 3)\n"
   ]
  },
  {
   "cell_type": "code",
   "execution_count": null,
   "id": "9f593d57-d1a2-4bd5-b8de-60282b49ef3a",
   "metadata": {},
   "outputs": [],
   "source": [
    "# 6. Converting to Set (set)\n",
    "# we can convert a value to a set using the set() function. \n",
    "# This is useful for removing duplicates from a list or string"
   ]
  },
  {
   "cell_type": "code",
   "execution_count": null,
   "id": "dcabf75e-6d48-41d3-8020-a37eb21fdd29",
   "metadata": {},
   "outputs": [],
   "source": [
    "# List to set\n",
    "lst = [1, 2, 2, 3, 4, 4]\n",
    "s = set(lst)\n",
    "print(s)  # Output: {1, 2, 3, 4}\n",
    "\n",
    "# String to set\n",
    "s = \"hello\"\n",
    "st = set(s)\n",
    "print(st)  # Output: {'e', 'h', 'l', 'o'}\n"
   ]
  },
  {
   "cell_type": "code",
   "execution_count": null,
   "id": "20158e52-0212-41b4-a512-4c89bd77062d",
   "metadata": {},
   "outputs": [],
   "source": [
    "# 7. Converting to Dictionary (dict)\n",
    "\n",
    "# we  can convert a list of key-value pairs (tuples) \n",
    "# or another dictionary to a dictionary using the dict() function."
   ]
  },
  {
   "cell_type": "code",
   "execution_count": null,
   "id": "1b2a0d63-46bb-4a3d-b5b6-79d1c3443151",
   "metadata": {},
   "outputs": [],
   "source": [
    "# List of tuples to dictionary\n",
    "pairs = [(\"name\", \"John\"), (\"age\", 30)]\n",
    "d = dict(pairs)\n",
    "print(d)  # Output: {'name': 'John', 'age': 30}\n"
   ]
  },
  {
   "cell_type": "markdown",
   "id": "1ecce674-5eb8-4ffa-bb4f-3d3e8f1fab21",
   "metadata": {},
   "source": [
    "## Q5. Given a list my_list = [1, 2, 3, 4, 5], write the code to slice the list and obtain the sub-list [2, 3]."
   ]
  },
  {
   "cell_type": "code",
   "execution_count": 7,
   "id": "68f24f43-1aca-44df-a246-37b929edc19f",
   "metadata": {},
   "outputs": [],
   "source": [
    "my_list=[1,2,3,4,5]"
   ]
  },
  {
   "cell_type": "code",
   "execution_count": 8,
   "id": "398209b8-185b-46aa-9186-a5d6f341fd34",
   "metadata": {},
   "outputs": [
    {
     "data": {
      "text/plain": [
       "[2, 3]"
      ]
     },
     "execution_count": 8,
     "metadata": {},
     "output_type": "execute_result"
    }
   ],
   "source": [
    "my_list[1:3]"
   ]
  },
  {
   "cell_type": "markdown",
   "id": "8afd832e-fcdd-4311-a579-1f0ea4a0d77d",
   "metadata": {},
   "source": [
    " ## Q6. What is a complex number in mathematics, and how is it represented in Python?"
   ]
  },
  {
   "cell_type": "code",
   "execution_count": 9,
   "id": "e3280eeb-22fe-4039-894e-19f1d5447f22",
   "metadata": {},
   "outputs": [],
   "source": [
    "c_num=(4+9j)"
   ]
  },
  {
   "cell_type": "code",
   "execution_count": 11,
   "id": "319d16eb-43d2-4ec6-9a18-c32291e3ffc7",
   "metadata": {},
   "outputs": [
    {
     "data": {
      "text/plain": [
       "complex"
      ]
     },
     "execution_count": 11,
     "metadata": {},
     "output_type": "execute_result"
    }
   ],
   "source": [
    "type(c_num)"
   ]
  },
  {
   "cell_type": "code",
   "execution_count": null,
   "id": "e16bb215-c441-4f76-9563-24f8deb5beb4",
   "metadata": {},
   "outputs": [],
   "source": [
    "What is a Complex Number in Mathematics?\n",
    "In mathematics,\n",
    "a complex number is a number that comprises a real part and an imaginary part.\n",
    "It is generally expressed in the form:\n",
    "\n",
    "𝑧=𝑎+𝑏𝑖\n",
    "\n",
    "Where:\n",
    "\n",
    "𝑎 is the real part of the complex number.\n",
    "b is the imaginary part.\n",
    "i (or j in some contexts) is the imaginary unit, which satisfies the equation 𝑖2=−1\n",
    "\n",
    "For example, \n",
    "3+4𝑖\n",
    "3+4i is a complex number where 3 is the real part, and 4 is the imaginary part."
   ]
  },
  {
   "cell_type": "code",
   "execution_count": null,
   "id": "2c0ff9eb-5e6a-47ae-a31e-010e11502d6e",
   "metadata": {},
   "outputs": [],
   "source": [
    "# How is a Complex Number Represented in Python?\n",
    "\n",
    "# In Python, complex numbers are supported as a built-in data type. \n",
    "# A complex number is represented as a + bj, where a is the real part and b is the imaginary part. \n",
    "# The imaginary part is denoted by the letter j instead of i (as is common in engineering)."
   ]
  },
  {
   "cell_type": "code",
   "execution_count": null,
   "id": "0291ba66-0c67-4ff3-8f35-ee98e1e41ea1",
   "metadata": {},
   "outputs": [],
   "source": [
    "Creating Complex Numbers in Python\n",
    "You can create a complex number in Python in a few different ways:\n",
    "\n",
    "1. Using Literal Notation\n",
    "You can directly assign a complex number to a variable using the literal a + bj:"
   ]
  },
  {
   "cell_type": "code",
   "execution_count": null,
   "id": "bcf46269-ee17-4f0f-8bfe-0dd767f97597",
   "metadata": {},
   "outputs": [],
   "source": [
    "z = 3 + 4j\n",
    "print(z)  # Output: (3+4j)\n"
   ]
  },
  {
   "cell_type": "code",
   "execution_count": null,
   "id": "75f46c17-7f09-4768-9a57-0b58dbd9245e",
   "metadata": {},
   "outputs": [],
   "source": [
    "Accessing the Real and Imaginary Parts\n",
    "You can access the real and imaginary parts of a complex number using the .real and .imag attributes:"
   ]
  },
  {
   "cell_type": "code",
   "execution_count": null,
   "id": "24fc59d9-627e-441b-b097-f9dcb53aed6e",
   "metadata": {},
   "outputs": [],
   "source": [
    "z = 3 + 4j\n",
    "\n",
    "# Accessing the real part\n",
    "real_part = z.real\n",
    "print(real_part)  # Output: 3.0\n",
    "\n",
    "# Accessing the imaginary part\n",
    "imaginary_part = z.imag\n",
    "print(imaginary_part)  # Output: 4.0\n"
   ]
  },
  {
   "cell_type": "markdown",
   "id": "048334ce-c4a0-4406-9926-0850d325803b",
   "metadata": {},
   "source": [
    "## Q7. What is the correct way to declare a variable named age and assign the value 25 to it?"
   ]
  },
  {
   "cell_type": "code",
   "execution_count": 14,
   "id": "a67de725-bad8-42d2-afb1-d8b0916a6508",
   "metadata": {},
   "outputs": [],
   "source": [
    "Age=25"
   ]
  },
  {
   "cell_type": "code",
   "execution_count": 16,
   "id": "d889325d-be34-4221-9c30-8ba4e5be566e",
   "metadata": {},
   "outputs": [
    {
     "data": {
      "text/plain": [
       "25"
      ]
     },
     "execution_count": 16,
     "metadata": {},
     "output_type": "execute_result"
    }
   ],
   "source": [
    "Age"
   ]
  },
  {
   "cell_type": "markdown",
   "id": "a4987dc8-e58f-4005-8377-a082049592bb",
   "metadata": {},
   "source": [
    "## Q8. Declare a variable named price and assign the value 9.99 to it. What data type does this variable\n",
    "## belong to?"
   ]
  },
  {
   "cell_type": "code",
   "execution_count": 17,
   "id": "ad4c8bc9-9456-49bc-a15f-cf2b167ba8ed",
   "metadata": {},
   "outputs": [],
   "source": [
    "price=9.99"
   ]
  },
  {
   "cell_type": "code",
   "execution_count": 18,
   "id": "e79bb63d-ef64-45ae-88f6-c5e853c50652",
   "metadata": {},
   "outputs": [
    {
     "data": {
      "text/plain": [
       "9.99"
      ]
     },
     "execution_count": 18,
     "metadata": {},
     "output_type": "execute_result"
    }
   ],
   "source": [
    "price"
   ]
  },
  {
   "cell_type": "code",
   "execution_count": 19,
   "id": "e5ea4264-bb76-4ac9-9aa8-75ab7b89431c",
   "metadata": {},
   "outputs": [
    {
     "data": {
      "text/plain": [
       "float"
      ]
     },
     "execution_count": 19,
     "metadata": {},
     "output_type": "execute_result"
    }
   ],
   "source": [
    "type(price)"
   ]
  },
  {
   "cell_type": "markdown",
   "id": "ee1c10ea-9b6d-45ec-8f01-55370ec3cc8e",
   "metadata": {},
   "source": [
    "## Q9. Create a variable named name and assign your full name to it as a string. How would you print the value of this variable?"
   ]
  },
  {
   "cell_type": "code",
   "execution_count": 20,
   "id": "29ba4dd3-f1b0-4a57-b2da-760e94b564a4",
   "metadata": {},
   "outputs": [],
   "source": [
    "Name=\"Mehak Goel\""
   ]
  },
  {
   "cell_type": "code",
   "execution_count": 24,
   "id": "d022997b-5505-4a64-ab14-5e8d82beea7e",
   "metadata": {},
   "outputs": [
    {
     "name": "stdout",
     "output_type": "stream",
     "text": [
      "Mehak Goel\n"
     ]
    }
   ],
   "source": [
    "print(Name)"
   ]
  },
  {
   "cell_type": "markdown",
   "id": "40c00cf3-891b-4edf-b12b-bd5e85ff788d",
   "metadata": {},
   "source": [
    "## Q10. Given the string \"Hello, World!\", extract the substring \"World\"."
   ]
  },
  {
   "cell_type": "code",
   "execution_count": 25,
   "id": "0f84c5b8-db76-4c8b-b579-b5a0fabf3a1e",
   "metadata": {},
   "outputs": [],
   "source": [
    "str=\"Hello, World!\""
   ]
  },
  {
   "cell_type": "code",
   "execution_count": 26,
   "id": "3afa6a19-1047-4d01-81fd-547d7ed4f7ad",
   "metadata": {},
   "outputs": [
    {
     "data": {
      "text/plain": [
       "'Hello, World!'"
      ]
     },
     "execution_count": 26,
     "metadata": {},
     "output_type": "execute_result"
    }
   ],
   "source": [
    "str"
   ]
  },
  {
   "cell_type": "code",
   "execution_count": 29,
   "id": "dd30ae62-be49-4f21-bf73-dfdcec765785",
   "metadata": {},
   "outputs": [
    {
     "data": {
      "text/plain": [
       "'World'"
      ]
     },
     "execution_count": 29,
     "metadata": {},
     "output_type": "execute_result"
    }
   ],
   "source": [
    "str[7:12]"
   ]
  },
  {
   "cell_type": "markdown",
   "id": "285f3d15-4449-4dc2-bbbc-6c67ec1aa604",
   "metadata": {},
   "source": [
    "## Q11. Create a variable named \"is_student\" and assign it a boolean value indicating whether you arecurrently a student or not."
   ]
  },
  {
   "cell_type": "code",
   "execution_count": null,
   "id": "66a784de-324d-4807-8147-eb625947af5b",
   "metadata": {},
   "outputs": [],
   "source": [
    "# Example if I are currently a student"
   ]
  },
  {
   "cell_type": "code",
   "execution_count": 30,
   "id": "8b815106-3fe8-4116-99d8-405b09c65950",
   "metadata": {},
   "outputs": [],
   "source": [
    "is_student=True"
   ]
  },
  {
   "cell_type": "code",
   "execution_count": null,
   "id": "90ac5582-0484-4cbf-b57d-9300f55a51e9",
   "metadata": {},
   "outputs": [],
   "source": [
    "# Example if I are not currently a student:"
   ]
  },
  {
   "cell_type": "code",
   "execution_count": null,
   "id": "ef2c47a1-fb56-4584-a101-d5dbf75cb338",
   "metadata": {},
   "outputs": [],
   "source": [
    "is_student = False\n"
   ]
  },
  {
   "cell_type": "code",
   "execution_count": null,
   "id": "5728004a-6ce4-4f65-8060-5060ba701e63",
   "metadata": {},
   "outputs": [],
   "source": []
  }
 ],
 "metadata": {
  "kernelspec": {
   "display_name": "Python 3 (ipykernel)",
   "language": "python",
   "name": "python3"
  },
  "language_info": {
   "codemirror_mode": {
    "name": "ipython",
    "version": 3
   },
   "file_extension": ".py",
   "mimetype": "text/x-python",
   "name": "python",
   "nbconvert_exporter": "python",
   "pygments_lexer": "ipython3",
   "version": "3.10.8"
  }
 },
 "nbformat": 4,
 "nbformat_minor": 5
}
